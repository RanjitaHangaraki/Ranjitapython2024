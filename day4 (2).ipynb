{
  "nbformat": 4,
  "nbformat_minor": 0,
  "metadata": {
    "colab": {
      "provenance": []
    },
    "kernelspec": {
      "name": "python3",
      "display_name": "Python 3"
    },
    "language_info": {
      "name": "python"
    }
  },
  "cells": [
    {
      "cell_type": "markdown",
      "source": [
        "data structure"
      ],
      "metadata": {
        "id": "3iSoaj9Vm1n5"
      }
    },
    {
      "cell_type": "code",
      "execution_count": null,
      "metadata": {
        "colab": {
          "base_uri": "https://localhost:8080/"
        },
        "id": "glsVo3Adk_uF",
        "outputId": "471f6b53-3d4c-4ef2-aeb6-ef5940b837d6"
      },
      "outputs": [
        {
          "output_type": "stream",
          "name": "stdout",
          "text": [
            "[1, 2, 3, 4, 5, 6, 7, 8]\n"
          ]
        }
      ],
      "source": [
        "a=[1,2,3,4,5,6,7,8]\n",
        "print(a)"
      ]
    },
    {
      "cell_type": "code",
      "source": [
        "b=[1,2,3,\"raki\"]\n",
        "print(b)"
      ],
      "metadata": {
        "colab": {
          "base_uri": "https://localhost:8080/"
        },
        "id": "Fjk7DBUZoDy7",
        "outputId": "13505a96-cc45-4c89-bf20-10344e06570a"
      },
      "execution_count": null,
      "outputs": [
        {
          "output_type": "stream",
          "name": "stdout",
          "text": [
            "[1, 2, 3, 'raki']\n"
          ]
        }
      ]
    },
    {
      "cell_type": "markdown",
      "source": [
        "accessing item"
      ],
      "metadata": {
        "id": "JCursy3rMZMc"
      }
    },
    {
      "cell_type": "code",
      "source": [
        "print(a[0])\n",
        "print(a[-1])"
      ],
      "metadata": {
        "colab": {
          "base_uri": "https://localhost:8080/"
        },
        "collapsed": true,
        "id": "1AZtfqhdMU01",
        "outputId": "13d31e0c-627c-4315-f578-acf64a5212b3"
      },
      "execution_count": null,
      "outputs": [
        {
          "output_type": "stream",
          "name": "stdout",
          "text": [
            "1\n",
            "8\n"
          ]
        }
      ]
    },
    {
      "cell_type": "markdown",
      "source": [
        "modifying items"
      ],
      "metadata": {
        "id": "9CGqXKqsm0Wj"
      }
    },
    {
      "cell_type": "code",
      "source": [
        "a[0]=10\n",
        "print(a)"
      ],
      "metadata": {
        "colab": {
          "base_uri": "https://localhost:8080/"
        },
        "id": "K-YyCI8_Zu5b",
        "outputId": "0429dbd2-4302-410d-c461-36a0f2169ce9"
      },
      "execution_count": null,
      "outputs": [
        {
          "output_type": "stream",
          "name": "stdout",
          "text": [
            "[10, 2, 3, 4, 5, 6, 7, 8]\n"
          ]
        }
      ]
    },
    {
      "cell_type": "markdown",
      "source": [
        "adding items\n",
        "append"
      ],
      "metadata": {
        "id": "XvDya1Zcaw42"
      }
    },
    {
      "cell_type": "code",
      "source": [
        "a.append(6)\n",
        "a"
      ],
      "metadata": {
        "colab": {
          "base_uri": "https://localhost:8080/"
        },
        "id": "TtpBv8oUakJY",
        "outputId": "ba9e1ae0-4882-4f53-bf91-21eff22ac33c"
      },
      "execution_count": null,
      "outputs": [
        {
          "output_type": "execute_result",
          "data": {
            "text/plain": [
              "[10, 2, 3, 4, 5, 6, 7, 8, 6, 6]"
            ]
          },
          "metadata": {},
          "execution_count": 13
        }
      ]
    },
    {
      "cell_type": "code",
      "source": [
        "#insert item\n",
        "a.insert(1,15)\n",
        "a"
      ],
      "metadata": {
        "colab": {
          "base_uri": "https://localhost:8080/"
        },
        "id": "tqzwmtqGb-Z_",
        "outputId": "1e2d6aa3-f35a-45e9-f0a1-3dccbf916bf5"
      },
      "execution_count": null,
      "outputs": [
        {
          "output_type": "execute_result",
          "data": {
            "text/plain": [
              "[10, 15, 15, 15, 2, 3, 4, 5, 6, 7, 8, 6, 6]"
            ]
          },
          "metadata": {},
          "execution_count": 17
        }
      ]
    },
    {
      "cell_type": "markdown",
      "source": [
        "removing items"
      ],
      "metadata": {
        "id": "PfQbl-3JuaYN"
      }
    },
    {
      "cell_type": "code",
      "source": [
        "#remove item\n",
        "a.remove(15)\n",
        "a"
      ],
      "metadata": {
        "colab": {
          "base_uri": "https://localhost:8080/"
        },
        "id": "R8DqTnlhcXrb",
        "outputId": "07fa4fa8-2e28-49af-b89d-e862bf925b08"
      },
      "execution_count": null,
      "outputs": [
        {
          "output_type": "execute_result",
          "data": {
            "text/plain": [
              "[10, 15, 15, 2, 3, 4, 5, 6, 7, 8, 6, 6]"
            ]
          },
          "metadata": {},
          "execution_count": 18
        }
      ]
    },
    {
      "cell_type": "code",
      "source": [
        "#pop remove item\n",
        "a.pop(1)\n",
        "a"
      ],
      "metadata": {
        "colab": {
          "base_uri": "https://localhost:8080/"
        },
        "id": "BWv2fFK_clxm",
        "outputId": "09751772-3887-4075-e3d9-109c2b048773"
      },
      "execution_count": null,
      "outputs": [
        {
          "output_type": "execute_result",
          "data": {
            "text/plain": [
              "[10, 15, 2, 3, 4, 5, 6, 7, 8, 6, 6]"
            ]
          },
          "metadata": {},
          "execution_count": 19
        }
      ]
    },
    {
      "cell_type": "markdown",
      "source": [
        "other operations"
      ],
      "metadata": {
        "id": "X6BrxDiijndQ"
      }
    },
    {
      "cell_type": "code",
      "source": [
        "#len\n",
        "s=[10,20,30,40,50]\n",
        "len(s)"
      ],
      "metadata": {
        "colab": {
          "base_uri": "https://localhost:8080/"
        },
        "id": "FZvEEWXoiYjW",
        "outputId": "69b6b905-4fd5-4237-e89a-51bb11f2226f"
      },
      "execution_count": null,
      "outputs": [
        {
          "output_type": "execute_result",
          "data": {
            "text/plain": [
              "5"
            ]
          },
          "metadata": {},
          "execution_count": 23
        }
      ]
    },
    {
      "cell_type": "code",
      "source": [
        "#sort\n",
        "car=[\"maruti\",\"honda\",\"tata\"]\n",
        "car.sort()\n",
        "car"
      ],
      "metadata": {
        "colab": {
          "base_uri": "https://localhost:8080/"
        },
        "id": "HOlBtCIEinem",
        "outputId": "0b32a834-01b4-410f-8dc9-448dd5702469"
      },
      "execution_count": null,
      "outputs": [
        {
          "output_type": "execute_result",
          "data": {
            "text/plain": [
              "['honda', 'maruti', 'tata']"
            ]
          },
          "metadata": {},
          "execution_count": 24
        }
      ]
    },
    {
      "cell_type": "code",
      "source": [
        "d=(1,2,3,4,5,6,7,)\n"
      ],
      "metadata": {
        "colab": {
          "base_uri": "https://localhost:8080/"
        },
        "id": "od9GT4hRjyRk",
        "outputId": "9c72de83-5123-4954-85ac-ea73e8993301"
      },
      "execution_count": null,
      "outputs": [
        {
          "output_type": "execute_result",
          "data": {
            "text/plain": [
              "(1, 2, 3, 4, 5, 6, 7, 8)"
            ]
          },
          "metadata": {},
          "execution_count": 27
        }
      ]
    },
    {
      "cell_type": "markdown",
      "source": [
        "iterating through alist"
      ],
      "metadata": {
        "id": "mVkJv5jWfBNn"
      }
    },
    {
      "cell_type": "code",
      "source": [
        "for i in a:\n",
        "    print(i)"
      ],
      "metadata": {
        "colab": {
          "base_uri": "https://localhost:8080/"
        },
        "id": "eaT7coUCdDzv",
        "outputId": "c1f53e8c-6184-4c38-d76c-af9ccaa6b143"
      },
      "execution_count": null,
      "outputs": [
        {
          "output_type": "stream",
          "name": "stdout",
          "text": [
            "10\n",
            "15\n",
            "2\n",
            "3\n",
            "4\n",
            "5\n",
            "6\n",
            "7\n",
            "8\n",
            "6\n",
            "6\n"
          ]
        }
      ]
    },
    {
      "cell_type": "markdown",
      "source": [
        "tupels"
      ],
      "metadata": {
        "id": "U6fswp1Qd_On"
      }
    },
    {
      "cell_type": "code",
      "source": [
        "r=(10,20,30,40,50)\n",
        "print(r[3])"
      ],
      "metadata": {
        "colab": {
          "base_uri": "https://localhost:8080/"
        },
        "id": "YNZFi_FmdiWi",
        "outputId": "e33b1263-cb7c-4b86-ec6b-e323efb75d83"
      },
      "execution_count": null,
      "outputs": [
        {
          "output_type": "stream",
          "name": "stdout",
          "text": [
            "40\n"
          ]
        }
      ]
    },
    {
      "cell_type": "markdown",
      "source": [
        "dictionary"
      ],
      "metadata": {
        "id": "dqgsMbwnovkw"
      }
    },
    {
      "cell_type": "code",
      "source": [
        "dog={\n",
        "    \"name\":\"rocky\",\n",
        "    \"age\":12,\n",
        "    \"breed\":\"pug\"\n",
        "}\n",
        "dog"
      ],
      "metadata": {
        "colab": {
          "base_uri": "https://localhost:8080/"
        },
        "id": "QN2qpoeNoI8w",
        "outputId": "9783c96e-ea4d-431a-cf45-0ac9c16aad97"
      },
      "execution_count": null,
      "outputs": [
        {
          "output_type": "execute_result",
          "data": {
            "text/plain": [
              "{'name': 'rocky', 'age': 12, 'breed': 'pug'}"
            ]
          },
          "metadata": {},
          "execution_count": 30
        }
      ]
    },
    {
      "cell_type": "code",
      "source": [
        "#accessing\n",
        "print(dog[\"name\"])"
      ],
      "metadata": {
        "colab": {
          "base_uri": "https://localhost:8080/"
        },
        "id": "l_qUXZtNo3-R",
        "outputId": "301b4fcf-e9b0-487a-93ca-5be3b18b2912"
      },
      "execution_count": null,
      "outputs": [
        {
          "output_type": "stream",
          "name": "stdout",
          "text": [
            "rocky\n"
          ]
        }
      ]
    },
    {
      "cell_type": "code",
      "source": [
        "#modifing\n",
        "dog[\"age\"]=10\n",
        "dog"
      ],
      "metadata": {
        "colab": {
          "base_uri": "https://localhost:8080/"
        },
        "id": "rBCdOOv-pLnS",
        "outputId": "c4f61325-042e-4db3-d8f9-278bfc9feaa5"
      },
      "execution_count": null,
      "outputs": [
        {
          "output_type": "execute_result",
          "data": {
            "text/plain": [
              "{'name': 'rocky', 'age': 10, 'breed': 'pug'}"
            ]
          },
          "metadata": {},
          "execution_count": 32
        }
      ]
    },
    {
      "cell_type": "code",
      "source": [
        "#remove\n",
        "del dog[\"breed\"]\n",
        "dog"
      ],
      "metadata": {
        "colab": {
          "base_uri": "https://localhost:8080/"
        },
        "id": "Qqmd9wfXpeWF",
        "outputId": "842081b9-0577-4977-bc20-279947c29c37"
      },
      "execution_count": null,
      "outputs": [
        {
          "output_type": "execute_result",
          "data": {
            "text/plain": [
              "{'name': 'rocky', 'age': 10}"
            ]
          },
          "metadata": {},
          "execution_count": 33
        }
      ]
    },
    {
      "cell_type": "code",
      "source": [
        "#iterating\n",
        "for key,value in dog.items():\n",
        "    print(key,value)"
      ],
      "metadata": {
        "colab": {
          "base_uri": "https://localhost:8080/"
        },
        "id": "Qx3Bnu4Kpvem",
        "outputId": "be0082b8-f1ab-48b9-be59-b4e41e62703f"
      },
      "execution_count": null,
      "outputs": [
        {
          "output_type": "stream",
          "name": "stdout",
          "text": [
            "name rocky\n",
            "age 10\n"
          ]
        }
      ]
    },
    {
      "cell_type": "markdown",
      "source": [
        "set"
      ],
      "metadata": {
        "id": "Q7CCDSg_rP4e"
      }
    },
    {
      "cell_type": "code",
      "source": [
        "naman={1,2,3,4,5,6}\n",
        "naman"
      ],
      "metadata": {
        "colab": {
          "base_uri": "https://localhost:8080/"
        },
        "id": "XvSU8oXRquvM",
        "outputId": "4bc67636-3a22-46e7-9404-bcf854e6896a"
      },
      "execution_count": null,
      "outputs": [
        {
          "output_type": "execute_result",
          "data": {
            "text/plain": [
              "{1, 2, 3, 4, 5, 6}"
            ]
          },
          "metadata": {},
          "execution_count": 36
        }
      ]
    },
    {
      "cell_type": "code",
      "source": [
        "#adding\n",
        "naman.add(0)\n",
        "naman"
      ],
      "metadata": {
        "colab": {
          "base_uri": "https://localhost:8080/"
        },
        "id": "V2lPUQVWrgLP",
        "outputId": "93bf19f9-2730-4192-898b-8b2c3304be32"
      },
      "execution_count": null,
      "outputs": [
        {
          "output_type": "execute_result",
          "data": {
            "text/plain": [
              "{0, 1, 2, 3, 4, 5, 6, 7, 9}"
            ]
          },
          "metadata": {},
          "execution_count": 40
        }
      ]
    },
    {
      "cell_type": "code",
      "source": [
        "#removing\n",
        "naman.remove(5)\n",
        "naman"
      ],
      "metadata": {
        "colab": {
          "base_uri": "https://localhost:8080/"
        },
        "id": "7sO_SQq5r-MK",
        "outputId": "ff0f9b71-9046-4514-b6db-3443c0163811"
      },
      "execution_count": null,
      "outputs": [
        {
          "output_type": "execute_result",
          "data": {
            "text/plain": [
              "{0, 1, 2, 3, 4, 6, 7, 9}"
            ]
          },
          "metadata": {},
          "execution_count": 41
        }
      ]
    },
    {
      "cell_type": "markdown",
      "source": [
        "set operation"
      ],
      "metadata": {
        "id": "8Z6JXDbswYMV"
      }
    },
    {
      "cell_type": "code",
      "source": [
        "#union\n",
        "t={1,2,3,4}\n",
        "m={5,6,7,8}\n",
        "t|m"
      ],
      "metadata": {
        "colab": {
          "base_uri": "https://localhost:8080/"
        },
        "id": "ddtEyjYCsN2c",
        "outputId": "8a11c5a8-4cd3-4c69-c71d-90f16bf486d5"
      },
      "execution_count": null,
      "outputs": [
        {
          "output_type": "execute_result",
          "data": {
            "text/plain": [
              "{1, 2, 3, 4, 5, 6, 7, 8}"
            ]
          },
          "metadata": {},
          "execution_count": 46
        }
      ]
    },
    {
      "cell_type": "code",
      "source": [
        "#intersection\n",
        "t&m"
      ],
      "metadata": {
        "colab": {
          "base_uri": "https://localhost:8080/"
        },
        "id": "abDaly61tKJA",
        "outputId": "9461b11d-2dab-4c95-c3be-6f5736f2d79b"
      },
      "execution_count": null,
      "outputs": [
        {
          "output_type": "execute_result",
          "data": {
            "text/plain": [
              "set()"
            ]
          },
          "metadata": {},
          "execution_count": 47
        }
      ]
    },
    {
      "cell_type": "code",
      "source": [
        "#difference\n",
        "t-m"
      ],
      "metadata": {
        "colab": {
          "base_uri": "https://localhost:8080/"
        },
        "id": "latUn3kftTxX",
        "outputId": "d0214ba1-e8a1-4b2e-d695-f3e13267865b"
      },
      "execution_count": null,
      "outputs": [
        {
          "output_type": "execute_result",
          "data": {
            "text/plain": [
              "{1, 2, 3, 4}"
            ]
          },
          "metadata": {},
          "execution_count": 48
        }
      ]
    },
    {
      "cell_type": "markdown",
      "source": [
        "merge 2 list"
      ],
      "metadata": {
        "id": "MoqmLOntw6Xm"
      }
    },
    {
      "cell_type": "code",
      "source": [
        "list1=[1,2,3,4,5]\n",
        "list2=[6,7,8,9,10]\n",
        "merged_list=list1+list2\n",
        "merged_list"
      ],
      "metadata": {
        "colab": {
          "base_uri": "https://localhost:8080/"
        },
        "id": "gt7ijJott3wT",
        "outputId": "1cb7b1e2-0b5c-4128-9111-c0a0fbd51678"
      },
      "execution_count": null,
      "outputs": [
        {
          "output_type": "execute_result",
          "data": {
            "text/plain": [
              "[1, 2, 3, 4, 5, 6, 7, 8, 9, 10]"
            ]
          },
          "metadata": {},
          "execution_count": 49
        }
      ]
    },
    {
      "cell_type": "markdown",
      "source": [
        "dictionary operation"
      ],
      "metadata": {
        "id": "hVI-POo0xlJO"
      }
    },
    {
      "cell_type": "code",
      "source": [
        "student={\"name\":\"johan\",\"age\":21,\"marks\":85}\n",
        "print(\"name:\",student[\"name\"])\n",
        "student[\"marks\"]=90\n",
        "print(\"updated marks:\",student[\"marks\"])\n"
      ],
      "metadata": {
        "colab": {
          "base_uri": "https://localhost:8080/"
        },
        "id": "Q8AYHIR_xvPh",
        "outputId": "6cb56133-61bd-4496-d998-e207470181d8"
      },
      "execution_count": null,
      "outputs": [
        {
          "output_type": "stream",
          "name": "stdout",
          "text": [
            "name: johan\n",
            "updated marks: 90\n"
          ]
        }
      ]
    },
    {
      "cell_type": "markdown",
      "source": [
        "finding the max and min in list"
      ],
      "metadata": {
        "id": "pzpVILrCy6KL"
      }
    },
    {
      "cell_type": "code",
      "source": [
        "num=[10,20,30,40,50]\n",
        "max_num=max(num)\n",
        "min_num=min(num)\n",
        "print(\"max:\",max_num)\n",
        "print(\"min:\",min_num)"
      ],
      "metadata": {
        "colab": {
          "base_uri": "https://localhost:8080/"
        },
        "id": "LZ_FSvzLy4t7",
        "outputId": "428640a4-51f8-4e1f-a3b3-a6ce7697e2d6"
      },
      "execution_count": null,
      "outputs": [
        {
          "output_type": "stream",
          "name": "stdout",
          "text": [
            "max: 50\n",
            "min: 10\n"
          ]
        }
      ]
    },
    {
      "cell_type": "markdown",
      "source": [
        "count frequency of element in list"
      ],
      "metadata": {
        "id": "0uPmVhtg4kTN"
      }
    },
    {
      "cell_type": "code",
      "source": [
        "numbers=[1,2,2,4,4,4,4]\n",
        "frequence={}\n",
        "for num in numbers:\n",
        "  frequence[num]=frequence.get(num,0)+1\n",
        "print(\"frequence of element:\",frequence)"
      ],
      "metadata": {
        "colab": {
          "base_uri": "https://localhost:8080/"
        },
        "id": "Us5Tqv5Vz_B_",
        "outputId": "7149d8f0-7c65-4b13-8cf7-966e6f8e6673"
      },
      "execution_count": null,
      "outputs": [
        {
          "output_type": "stream",
          "name": "stdout",
          "text": [
            "frequence of element: {1: 1, 2: 2, 4: 4}\n"
          ]
        }
      ]
    },
    {
      "cell_type": "markdown",
      "source": [
        "palindrom"
      ],
      "metadata": {
        "id": "AklVNB_q7AQX"
      }
    },
    {
      "cell_type": "code",
      "source": [
        "number=int(input(\"enter a number:\"))\n",
        "reversenum=0\n",
        "temp=number\n",
        "while temp>0:\n",
        "  digit=temp%10\n",
        "  reversenum=reversenum*10+digit\n",
        "  temp//=10\n",
        "if number==reversenum:\n",
        "  print(\"palindrome\")\n",
        "else:\n",
        "  print(\"not palindrome\")"
      ],
      "metadata": {
        "colab": {
          "base_uri": "https://localhost:8080/"
        },
        "id": "nE1oJyQm4rI9",
        "outputId": "83c92815-70d0-47f6-97ae-45d7c5bba6ff"
      },
      "execution_count": null,
      "outputs": [
        {
          "output_type": "stream",
          "name": "stdout",
          "text": [
            "enter a number:676\n",
            "palindrome\n"
          ]
        }
      ]
    },
    {
      "cell_type": "code",
      "source": [
        "def isPalindrome(self, x):\n",
        "        \"\"\"\n",
        "        :type x: int\n",
        "        :rtype: bool\n",
        "        \"\"\"\n",
        "        if x < 0 or (x % 10 == 0 and x != 0):\n",
        "            return False\n",
        "\n",
        "        reversed_half = 0\n",
        "        while x > reversed_half:\n",
        "\n",
        "            reversed_half = reversed_half * 10 + x % 10\n",
        "            x //= 10\n",
        "\n",
        "\n",
        "        return x == reversed_half or x == reversed_half // 10"
      ],
      "metadata": {
        "id": "2hpeqZna6-p4"
      },
      "execution_count": 86,
      "outputs": []
    },
    {
      "cell_type": "markdown",
      "source": [],
      "metadata": {
        "id": "cs_HCo9nrUCX"
      }
    },
    {
      "cell_type": "code",
      "source": [
        " import random\n",
        " answers = [\n",
        "      \"It is certain.\",\n",
        "      \"It is decidedly so.\",\n",
        "      \"Without a doubt.\",\n",
        "      \"Yes definitely.\",\n",
        "      \"You may rely on it.\",\n",
        "      \"As I see it, yes.\",\n",
        "      \"Most likely.\",\n",
        "      \"Outlook good.\",\n",
        "      \"Yes.\",\n",
        "      \"Signs point to yes.\"\n",
        " ]\n",
        " print(\"ask the magic 8 ball a question\")\n",
        " input()\n",
        " print(random.choice(answers))\n"
      ],
      "metadata": {
        "colab": {
          "base_uri": "https://localhost:8080/"
        },
        "id": "s4bNifhejce4",
        "outputId": "17e36f19-84f8-4391-b9a3-9687f2d869aa"
      },
      "execution_count": 88,
      "outputs": [
        {
          "output_type": "stream",
          "name": "stdout",
          "text": [
            "ask the magic 8 ball a question\n",
            "34\n",
            "It is certain.\n"
          ]
        }
      ]
    },
    {
      "cell_type": "markdown",
      "source": [
        "`"
      ],
      "metadata": {
        "id": "SwKX6vIPeiTf"
      }
    }
  ]
}